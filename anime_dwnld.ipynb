{
 "cells": [
  {
   "cell_type": "code",
   "execution_count": 142,
   "metadata": {
    "collapsed": true
   },
   "outputs": [],
   "source": [
    "import requests\n",
    "import bs4\n",
    "import urllib.request\n",
    "import selenium.webdriver\n",
    "import time\n",
    "import pySmartDL"
   ]
  },
  {
   "cell_type": "code",
   "execution_count": 143,
   "metadata": {
    "collapsed": false
   },
   "outputs": [
   
   ],
   "source": [
    "first_ep = input(\"Enter the link for first episode: \")\n",
    "print(\"Getting information about series...\")"
   ]
  },
  {
   "cell_type": "code",
   "execution_count": 158,
   "metadata": {
    "collapsed": true
   },
   "outputs": [],
   "source": [
    "browoser = selenium.webdriver.Firefox()"
   ]
  },
  {
   "cell_type": "code",
   "execution_count": 145,
   "metadata": {
    "collapsed": false
   },
   "outputs": [],
   "source": [
    "browoser.get(first_ep)\n",
    "time.sleep(5)\n",
    "ps = browoser.page_source"
   ]
  },
  {
   "cell_type": "code",
   "execution_count": 146,
   "metadata": {
    "collapsed": true
   },
   "outputs": [],
   "source": [
    "soup = bs4.BeautifulSoup(ps, 'lxml')"
   ]
  },
  {
   "cell_type": "code",
   "execution_count": 147,
   "metadata": {
    "collapsed": true
   },
   "outputs": [],
   "source": [
    "a = soup.select('#jw > div.jw-media.jw-reset > video')"
   ]
  },
  {
   "cell_type": "code",
   "execution_count": 148,
   "metadata": {
    "collapsed": true
   },
   "outputs": [],
   "source": [
    "b = soup.select('a')"
   ]
  },
  {
   "cell_type": "code",
   "execution_count": 149,
   "metadata": {
    "collapsed": false
   },
   "outputs": [],
   "source": [
    "links = []\n",
    "i = 1\n",
    "for link in b:\n",
    "    try:\n",
    "        if 'watch' in link['href'] and '9anime' not in link['href'] :\n",
    "            links.append(link['href'])\n",
    "    except KeyError:\n",
    "        pass\n",
    "# for link in links:\n",
    "#     if '9anime' in link:\n",
    "#             i = i+1"
   ]
  },
  {
   "cell_type": "code",
   "execution_count": 150,
   "metadata": {
    "collapsed": false
   },
   "outputs": [],
   "source": [
    "total_ep = (len(links))/3"
   ]
  },
  {
   "cell_type": "code",
   "execution_count": 151,
   "metadata": {
    "collapsed": false
   },
   "outputs": [
    
   ],
   "source": [
    "total_ep "
   ]
  },
  {
   "cell_type": "code",
   "execution_count": 152,
   "metadata": {
    "collapsed": false
   },
   "outputs": [
    
   ],
   "source": [
    "links = links[0:int(total_ep)+1]\n",
    "series_name = links[0].split('/')[2].replace(\".\",'-')\n",
    "print(\"\\tSeries Name: \"+series_name)\n",
    "print(\"\\tTotal episodes: \"+str(int(total_ep)))\n",
    "is_correct = input(\"Press y if correct else press n\")\n",
    "ep_start = input(\"Enter the start episode number: \")\n",
    "ep_end = input(\"Enter the end episode number: \")"
   ]
  },
  {
   "cell_type": "code",
   "execution_count": 159,
   "metadata": {
    "collapsed": false
   },
   "outputs": [
    
   ],
   "source": [
    "if is_correct=='y' or is_correct=='Y':\n",
    "    ep = int(ep_start)\n",
    "    for link in links[int(ep_start)-1:int(ep_end)]:\n",
    "        a = []\n",
    "        print(\"Downloading ep- \"+str(ep))\n",
    "        ep_url = \"http://9anime.to\"+link\n",
    "        print(ep_url)\n",
    "        browoser.get(ep_url)\n",
    "        while len(a)==0:\n",
    "            time.sleep(5)\n",
    "            ps = browoser.page_source\n",
    "            soup = bs4.BeautifulSoup(ps, 'lxml')\n",
    "            a = soup.select('#jw > div.jw-media.jw-reset > video')\n",
    "        print(a)\n",
    "        browoser.get(a[0]['src'])\n",
    "        time.sleep(3)\n",
    "        dwnld_url = browoser.current_url\n",
    "        obj = pySmartDL.SmartDL(dwnld_url, dest='/home/akshay/My Projects/'+series_name+\"-ep-\"+str(ep)+'.mp4', progress_bar=False)\n",
    "        obj.start()\n",
    "        print(\"ep- \"+str(ep)+\" downloaded successfully\")\n",
    "        ep = ep + 1\n",
    "else:\n",
    "    print(\"Some error occured....contact admin\")"
   ]
  },
  {
   "cell_type": "code",
   "execution_count": 155,
   "metadata": {
    "collapsed": true
   },
   "outputs": [
   
   ],
   "source": [
    "ps\n"
   ]
  },
  {
   "cell_type": "code",
   "execution_count": null,
   "metadata": {
    "collapsed": true
   },
   "outputs": [],
   "source": []
  }
 ],
 "metadata": {
  "kernelspec": {
   "display_name": "Python 3",
   "language": "python",
   "name": "python3"
  },
  "language_info": {
   "codemirror_mode": {
    "name": "ipython",
    "version": 3
   },
   "file_extension": ".py",
   "mimetype": "text/x-python",
   "name": "python",
   "nbconvert_exporter": "python",
   "pygments_lexer": "ipython3",
   "version": "3.5.2"
  }
 },
 "nbformat": 4,
 "nbformat_minor": 0
}
